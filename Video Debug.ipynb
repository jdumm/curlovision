{
 "cells": [
  {
   "cell_type": "code",
   "execution_count": 2,
   "metadata": {
    "collapsed": false
   },
   "outputs": [
    {
     "name": "stderr",
     "output_type": "stream",
     "text": [
      "/Users/jpdumm/anaconda2/lib/python2.7/site-packages/matplotlib/font_manager.py:273: UserWarning: Matplotlib is building the font cache using fc-list. This may take a moment.\n",
      "  warnings.warn('Matplotlib is building the font cache using fc-list. This may take a moment.')\n"
     ]
    }
   ],
   "source": [
    "%matplotlib inline\n",
    "import os\n",
    "import glob\n",
    "import pickle\n",
    "import curlovision as cvis\n",
    "import datetime"
   ]
  },
  {
   "cell_type": "code",
   "execution_count": 3,
   "metadata": {
    "collapsed": false,
    "scrolled": true
   },
   "outputs": [
    {
     "name": "stdout",
     "output_type": "stream",
     "text": [
      "2018-06-06 16:10:33.144356\n",
      "Processing video file: VideoLibrary/PyeongChang.Olympics.2018.curling.men's.bronze.medal.match.Switzerland.v.Canada.1080p.NBC.WEB-DL-FINFUNGUS.mp4\n",
      "SHAPE (1080, 1920, 3)\n",
      "SHAPE (1080, 1920, 3)\n",
      "SHAPE (1080, 1920, 3)\n",
      "SHAPE (1080, 1920, 3)\n"
     ]
    },
    {
     "ename": "KeyboardInterrupt",
     "evalue": "",
     "output_type": "error",
     "traceback": [
      "\u001b[0;31m---------------------------------------------------------------------------\u001b[0m",
      "\u001b[0;31mKeyboardInterrupt\u001b[0m                         Traceback (most recent call last)",
      "\u001b[0;32m<ipython-input-3-0ddabcaa4762>\u001b[0m in \u001b[0;36m<module>\u001b[0;34m()\u001b[0m\n\u001b[1;32m      5\u001b[0m \u001b[0mframe_start\u001b[0m\u001b[0;34m=\u001b[0m\u001b[0;36m43000\u001b[0m\u001b[0;34m\u001b[0m\u001b[0m\n\u001b[1;32m      6\u001b[0m \u001b[0;32mprint\u001b[0m\u001b[0;34m(\u001b[0m\u001b[0;34m'Processing video file: {}'\u001b[0m\u001b[0;34m.\u001b[0m\u001b[0mformat\u001b[0m\u001b[0;34m(\u001b[0m\u001b[0mfilename\u001b[0m\u001b[0;34m)\u001b[0m\u001b[0;34m)\u001b[0m\u001b[0;34m\u001b[0m\u001b[0m\n\u001b[0;32m----> 7\u001b[0;31m \u001b[0mmatch_result\u001b[0m \u001b[0;34m=\u001b[0m \u001b[0mcvis\u001b[0m\u001b[0;34m.\u001b[0m\u001b[0mprocess_video\u001b[0m\u001b[0;34m(\u001b[0m\u001b[0mfilename\u001b[0m\u001b[0;34m,\u001b[0m\u001b[0mframe_start\u001b[0m\u001b[0;34m=\u001b[0m\u001b[0mframe_start\u001b[0m\u001b[0;34m,\u001b[0m\u001b[0mdraw_key_frames\u001b[0m\u001b[0;34m=\u001b[0m\u001b[0mTrue\u001b[0m\u001b[0;34m,\u001b[0m\u001b[0mdraw_test_frames\u001b[0m\u001b[0;34m=\u001b[0m\u001b[0mTrue\u001b[0m\u001b[0;34m,\u001b[0m\u001b[0mdebug_12ft\u001b[0m\u001b[0;34m=\u001b[0m\u001b[0mFalse\u001b[0m\u001b[0;34m,\u001b[0m\u001b[0mdebug_stones\u001b[0m\u001b[0;34m=\u001b[0m\u001b[0mFalse\u001b[0m\u001b[0;34m)\u001b[0m\u001b[0;34m\u001b[0m\u001b[0m\n\u001b[0m\u001b[1;32m      8\u001b[0m \u001b[0;32mprint\u001b[0m\u001b[0;34m(\u001b[0m\u001b[0mdatetime\u001b[0m\u001b[0;34m.\u001b[0m\u001b[0mdatetime\u001b[0m\u001b[0;34m.\u001b[0m\u001b[0mnow\u001b[0m\u001b[0;34m(\u001b[0m\u001b[0;34m)\u001b[0m\u001b[0;34m)\u001b[0m\u001b[0;34m\u001b[0m\u001b[0m\n",
      "\u001b[0;32m/Users/jpdumm/curlovision/curlovision.pyc\u001b[0m in \u001b[0;36mprocess_video\u001b[0;34m(vid_filename, frame_start, nskip, icon_filenames, draw_key_frames, draw_test_frames, debug_12ft, debug_stones, debug_scoreboard)\u001b[0m\n\u001b[1;32m     64\u001b[0m             \u001b[0;32mfor\u001b[0m \u001b[0mframe\u001b[0m \u001b[0;32min\u001b[0m \u001b[0mstm\u001b[0m\u001b[0;34m.\u001b[0m\u001b[0mframe_cache\u001b[0m\u001b[0;34m:\u001b[0m\u001b[0;34m\u001b[0m\u001b[0m\n\u001b[1;32m     65\u001b[0m                 \u001b[0;32mprint\u001b[0m\u001b[0;34m(\u001b[0m\u001b[0;34m'SHAPE'\u001b[0m\u001b[0;34m,\u001b[0m\u001b[0mframe\u001b[0m\u001b[0;34m.\u001b[0m\u001b[0mshape\u001b[0m\u001b[0;34m)\u001b[0m\u001b[0;34m\u001b[0m\u001b[0m\n\u001b[0;32m---> 66\u001b[0;31m                 \u001b[0mlayout\u001b[0m\u001b[0;34m,\u001b[0m\u001b[0mdframe\u001b[0m\u001b[0;34m,\u001b[0m\u001b[0msbstate\u001b[0m \u001b[0;34m=\u001b[0m \u001b[0mprocess_frame\u001b[0m\u001b[0;34m(\u001b[0m\u001b[0mframe\u001b[0m\u001b[0;34m,\u001b[0m\u001b[0micons\u001b[0m\u001b[0;34m=\u001b[0m\u001b[0;34m(\u001b[0m\u001b[0mred_icon\u001b[0m\u001b[0;34m,\u001b[0m\u001b[0myel_icon\u001b[0m\u001b[0;34m)\u001b[0m\u001b[0;34m,\u001b[0m\u001b[0mdraw\u001b[0m\u001b[0;34m=\u001b[0m\u001b[0mFalse\u001b[0m\u001b[0;34m,\u001b[0m\u001b[0mdebug_stones\u001b[0m\u001b[0;34m=\u001b[0m\u001b[0mdebug_stones\u001b[0m\u001b[0;34m,\u001b[0m\u001b[0mdebug_scoreboard\u001b[0m\u001b[0;34m=\u001b[0m\u001b[0mdebug_scoreboard\u001b[0m\u001b[0;34m)\u001b[0m\u001b[0;34m\u001b[0m\u001b[0m\n\u001b[0m\u001b[1;32m     67\u001b[0m                 \u001b[0;32mif\u001b[0m \u001b[0mlayout\u001b[0m \u001b[0;32mis\u001b[0m \u001b[0mNone\u001b[0m \u001b[0;32mor\u001b[0m \u001b[0msbstate\u001b[0m \u001b[0;32mis\u001b[0m \u001b[0mNone\u001b[0m \u001b[0;32mor\u001b[0m \u001b[0msbstate\u001b[0m\u001b[0;34m.\u001b[0m\u001b[0mcurrent_end\u001b[0m \u001b[0;34m<\u001b[0m \u001b[0mstm\u001b[0m\u001b[0;34m.\u001b[0m\u001b[0mend_prev\u001b[0m\u001b[0;34m:\u001b[0m \u001b[0;31m# skip invalid frames and replays\u001b[0m\u001b[0;34m\u001b[0m\u001b[0m\n\u001b[1;32m     68\u001b[0m                     \u001b[0;32mcontinue\u001b[0m\u001b[0;34m\u001b[0m\u001b[0m\n",
      "\u001b[0;32m/Users/jpdumm/curlovision/curlovision.pyc\u001b[0m in \u001b[0;36mprocess_frame\u001b[0;34m(frame, icons, draw, saveas, debug_stones, debug_scoreboard)\u001b[0m\n\u001b[1;32m    471\u001b[0m \u001b[0;34m\u001b[0m\u001b[0m\n\u001b[1;32m    472\u001b[0m     \u001b[0;31m# Find best 12-ft using Hough Transforms\u001b[0m\u001b[0;34m\u001b[0m\u001b[0;34m\u001b[0m\u001b[0m\n\u001b[0;32m--> 473\u001b[0;31m     \u001b[0mx12\u001b[0m\u001b[0;34m,\u001b[0m\u001b[0my12\u001b[0m\u001b[0;34m,\u001b[0m\u001b[0mr12\u001b[0m \u001b[0;34m=\u001b[0m \u001b[0mfind12ft\u001b[0m\u001b[0;34m(\u001b[0m\u001b[0mgframe\u001b[0m\u001b[0;34m,\u001b[0m\u001b[0mp2\u001b[0m\u001b[0;34m,\u001b[0m\u001b[0mminR\u001b[0m\u001b[0;34m,\u001b[0m\u001b[0mmaxR\u001b[0m\u001b[0;34m)\u001b[0m\u001b[0;34m\u001b[0m\u001b[0m\n\u001b[0m\u001b[1;32m    474\u001b[0m     \u001b[0;32mif\u001b[0m \u001b[0;34m(\u001b[0m\u001b[0mx12\u001b[0m\u001b[0;34m,\u001b[0m\u001b[0my12\u001b[0m\u001b[0;34m,\u001b[0m\u001b[0mr12\u001b[0m\u001b[0;34m)\u001b[0m\u001b[0;34m==\u001b[0m\u001b[0;34m(\u001b[0m\u001b[0;36m0\u001b[0m\u001b[0;34m,\u001b[0m\u001b[0;36m0\u001b[0m\u001b[0;34m,\u001b[0m\u001b[0;36m0\u001b[0m\u001b[0;34m)\u001b[0m \u001b[0;32mor\u001b[0m \u001b[0mr12\u001b[0m\u001b[0;34m<\u001b[0m\u001b[0;36m200\u001b[0m \u001b[0;32mor\u001b[0m \u001b[0mx12\u001b[0m\u001b[0;34m<\u001b[0m\u001b[0mr12\u001b[0m \u001b[0;32mor\u001b[0m \u001b[0mx12\u001b[0m\u001b[0;34m>\u001b[0m\u001b[0mw\u001b[0m\u001b[0;34m-\u001b[0m\u001b[0mr12\u001b[0m \u001b[0;32mor\u001b[0m \u001b[0my12\u001b[0m\u001b[0;34m<\u001b[0m\u001b[0mr12\u001b[0m\u001b[0;34m:\u001b[0m \u001b[0;31m# Sometimes a wild circle appears near the edge\u001b[0m\u001b[0;34m\u001b[0m\u001b[0m\n\u001b[1;32m    475\u001b[0m         \u001b[0;31m#print(\"Invalid Frame!\")\u001b[0m\u001b[0;34m\u001b[0m\u001b[0;34m\u001b[0m\u001b[0m\n",
      "\u001b[0;32m/Users/jpdumm/curlovision/curlovision.pyc\u001b[0m in \u001b[0;36mfind12ft\u001b[0;34m(gframe, p2, minR, maxR, zy, zw, rec_count)\u001b[0m\n\u001b[1;32m    257\u001b[0m     \u001b[0mzframe\u001b[0m \u001b[0;34m=\u001b[0m \u001b[0mgframe\u001b[0m\u001b[0;34m[\u001b[0m\u001b[0mint\u001b[0m\u001b[0;34m(\u001b[0m\u001b[0mh\u001b[0m\u001b[0;34m*\u001b[0m\u001b[0mzy\u001b[0m\u001b[0;34m)\u001b[0m\u001b[0;34m:\u001b[0m\u001b[0;34m,\u001b[0m\u001b[0mint\u001b[0m\u001b[0;34m(\u001b[0m\u001b[0mw\u001b[0m\u001b[0;34m*\u001b[0m\u001b[0mzw\u001b[0m\u001b[0;34m)\u001b[0m\u001b[0;34m:\u001b[0m\u001b[0mint\u001b[0m\u001b[0;34m(\u001b[0m\u001b[0;34m-\u001b[0m\u001b[0mw\u001b[0m\u001b[0;34m*\u001b[0m\u001b[0mzw\u001b[0m\u001b[0;34m-\u001b[0m\u001b[0;36m1\u001b[0m\u001b[0;34m)\u001b[0m\u001b[0;34m]\u001b[0m \u001b[0;31m# Zoom in a bit\u001b[0m\u001b[0;34m\u001b[0m\u001b[0m\n\u001b[1;32m    258\u001b[0m     twelves = cv2.HoughCircles(zframe,cv2.HOUGH_GRADIENT,1,20,\n\u001b[0;32m--> 259\u001b[0;31m                                param1=200,param2=p2,minRadius=minR,maxRadius=maxR)\n\u001b[0m\u001b[1;32m    260\u001b[0m     \u001b[0;31m#print(\"nTwelves: \" ,len(twelves[0,:]))\u001b[0m\u001b[0;34m\u001b[0m\u001b[0;34m\u001b[0m\u001b[0m\n\u001b[1;32m    261\u001b[0m     \u001b[0;31m#print(\"Twelves: \" ,twelves[0,:])\u001b[0m\u001b[0;34m\u001b[0m\u001b[0;34m\u001b[0m\u001b[0m\n",
      "\u001b[0;31mKeyboardInterrupt\u001b[0m: "
     ]
    }
   ],
   "source": [
    "reload(cvis)\n",
    "# Loop over all videos in a dir, process, and save MatchResults\n",
    "filename = \"VideoLibrary/PyeongChang.Olympics.2018.curling.men's.bronze.medal.match.Switzerland.v.Canada.1080p.NBC.WEB-DL-FINFUNGUS.mp4\"\n",
    "print(datetime.datetime.now())\n",
    "frame_start=43000\n",
    "print('Processing video file: {}'.format(filename))\n",
    "# Can process one video showing details of key frames and enabling various deeper debugging options:\n",
    "match_result = cvis.process_video(filename,frame_start=frame_start,\n",
    "                                  draw_key_frames=True,draw_test_frames=True,\n",
    "                                  debug_12ft=False,debug_stones=False,debug_scoreboard=False)\n",
    "print(datetime.datetime.now())\n"
   ]
  },
  {
   "cell_type": "code",
   "execution_count": null,
   "metadata": {
    "collapsed": true
   },
   "outputs": [],
   "source": []
  }
 ],
 "metadata": {
  "anaconda-cloud": {},
  "kernelspec": {
   "display_name": "Python [Root]",
   "language": "python",
   "name": "Python [Root]"
  },
  "language_info": {
   "codemirror_mode": {
    "name": "ipython",
    "version": 2
   },
   "file_extension": ".py",
   "mimetype": "text/x-python",
   "name": "python",
   "nbconvert_exporter": "python",
   "pygments_lexer": "ipython2",
   "version": "2.7.12"
  }
 },
 "nbformat": 4,
 "nbformat_minor": 0
}
