{
 "cells": [
  {
   "cell_type": "code",
   "execution_count": 1,
   "metadata": {
    "collapsed": false
   },
   "outputs": [
    {
     "name": "stderr",
     "output_type": "stream",
     "text": [
      "/Users/jpdumm/anaconda2/lib/python2.7/site-packages/matplotlib/font_manager.py:273: UserWarning: Matplotlib is building the font cache using fc-list. This may take a moment.\n",
      "  warnings.warn('Matplotlib is building the font cache using fc-list. This may take a moment.')\n"
     ]
    }
   ],
   "source": [
    "%matplotlib inline\n",
    "import os\n",
    "import glob\n",
    "import pickle\n",
    "import curlovision as cvis\n",
    "import datetime"
   ]
  },
  {
   "cell_type": "code",
   "execution_count": 2,
   "metadata": {
    "collapsed": false
   },
   "outputs": [
    {
     "name": "stdout",
     "output_type": "stream",
     "text": [
      "2018-08-13 10:30:09.475623\n",
      "Processing video file: VideoLibrary/PyeongChang.Olympics.2018.curling.men's.bronze.medal.match.Switzerland.v.Canada.1080p.NBC.WEB-DL-FINFUNGUS.mp4\n",
      "2018-08-13 11:45:29.057553\n",
      "Processing video file: VideoLibrary/PyeongChang.Olympics.2018.curling.men's.gold.medal.match.Sweden.v.USA.1080p.NBC.WEB-DL-FINFUNGUS.mp4\n",
      "2018-08-13 12:47:42.901219\n",
      "Processing video file: VideoLibrary/PyeongChang.Olympics.2018.curling.men's.round-robin.Canada.v.Sweden.1080p.NBC.WEB-DL-FINFUNGUS.mp4\n",
      "2018-08-13 13:55:53.920776\n",
      "Processing video file: VideoLibrary/PyeongChang.Olympics.2018.curling.men's.round-robin.Denmark.v.Sweden.1080p.NBC.WEB-DL-FINFUNGUS.mp4\n",
      "2018-08-13 15:01:25.871406\n",
      "Processing video file: VideoLibrary/PyeongChang.Olympics.2018.curling.men's.round-robin.Great.Britain.v.Denmark.1080p.NBC.WEB-DL-FINFUNGUS.mp4\n",
      "2018-08-13 16:04:41.236627\n",
      "Processing video file: VideoLibrary/PyeongChang.Olympics.2018.curling.men's.round-robin.Japan.v.Canada.1080p.NBC.WEB-DL-FINFUNGUS.mp4\n",
      "2018-08-13 17:08:36.975717\n",
      "Processing video file: VideoLibrary/PyeongChang.Olympics.2018.curling.men's.round-robin.Sweden.v.Norway.1080p.NBC.WEB-DL-FINFUNGUS.mp4\n",
      "2018-08-13 18:01:37.890391\n",
      "Processing video file: VideoLibrary/PyeongChang.Olympics.2018.curling.men's.round-robin.Sweden.v.USA.1080p.NBC.WEB-DL-FINFUNGUS.mp4\n",
      "2018-08-13 18:47:12.566976\n",
      "Processing video file: VideoLibrary/PyeongChang.Olympics.2018.curling.men's.round-robin.USA.v.Canada.1080p.NBC.WEB-DL-FINFUNGUS.mp4\n",
      "2018-08-13 21:08:29.962197\n",
      "Processing video file: VideoLibrary/PyeongChang.Olympics.2018.curling.men's.round-robin.USA.v.Norway.1080p.NBC.WEB-DL-FINFUNGUS.mp4\n",
      "2018-08-13 22:05:16.011357\n",
      "Processing video file: VideoLibrary/PyeongChang.Olympics.2018.curling.mixed.doubles.bronze.1080p.NBC.WEB-DL-FINFUNGUS.mp4\n",
      "2018-08-13 22:46:19.285359\n",
      "Processing video file: VideoLibrary/PyeongChang.Olympics.2018.curling.mixed.doubles.round-robin.tiebreaker.1080p.NBC.WEB-DL-FINFUNGUS.mp4\n",
      "2018-08-13 23:25:51.133966\n",
      "Processing video file: VideoLibrary/PyeongChang.Olympics.2018.curling.mixed.doubles.semifinal.1.1080p.NBC.WEB-DL-FINFUNGUS.mp4\n",
      "2018-08-14 00:10:19.607469\n",
      "Processing video file: VideoLibrary/PyeongChang.Olympics.2018.curling.mixed.doubles.semifinal.2.1080p.NBC.WEB-DL-FINFUNGUS.mp4\n",
      "2018-08-14 00:52:59.360533\n",
      "Processing video file: VideoLibrary/PyeongChang.Olympics.2018.curling.women's.bronze.medal.match.Great.Britain.v.Japan.1080p.NBC.WEB-DL-FINFUNGUS.mp4\n",
      "2018-08-14 01:32:37.576034\n",
      "Processing video file: VideoLibrary/PyeongChang.Olympics.2018.curling.women's.gold.medal.match.Sweden.v.Korea.1080p.NBC.WEB-DL-FINFUNGUS.mp4\n",
      "2018-08-14 02:16:52.191227\n",
      "Processing video file: VideoLibrary/PyeongChang.Olympics.2018.curling.women's.round-robin.Canada.v.Sweden.1080p.NBC.WEB-DL-FINFUNGUS.mp4\n",
      "2018-08-14 02:37:47.049814\n",
      "Processing video file: VideoLibrary/PyeongChang.Olympics.2018.curling.women's.round-robin.China.v.USA.1080p.NBC.WEB-DL-FINFUNGUS.mp4\n",
      "2018-08-14 03:26:00.126904\n",
      "Processing video file: VideoLibrary/PyeongChang.Olympics.2018.curling.women's.round-robin.Denmark.v.Canada.1080p.NBC.WEB-DL-FINFUNGUS.mp4\n",
      "2018-08-14 04:35:04.945378\n",
      "Processing video file: VideoLibrary/PyeongChang.Olympics.2018.curling.women's.round-robin.Great.Britain.v.Sweden.1080p.NBC.WEB-DL-FINFUNGUS.mp4\n",
      "2018-08-14 05:42:41.269487\n",
      "Processing video file: VideoLibrary/PyeongChang.Olympics.2018.curling.women's.round-robin.Japan.v.Sweden.1080p.NBC.WEB-DL-FINFUNGUS.mp4\n",
      "2018-08-14 06:35:28.830097\n",
      "Processing video file: VideoLibrary/PyeongChang.Olympics.2018.curling.women's.round-robin.Russia.v.Canada.1080p.NBC.WEB-DL-FINFUNGUS.mp4\n",
      "2018-08-14 07:50:32.660574\n",
      "Processing video file: VideoLibrary/PyeongChang.Olympics.2018.curling.women's.round-robin.USA.v.Canada.1080p.NBC.WEB-DL-FINFUNGUS.mp4\n",
      "2018-08-14 08:30:04.476730\n",
      "Processing video file: VideoLibrary/PyeongChang.Olympics.2018.curling.women's.semi-finals.Korea.v.Japan.1080p.NBC.WEB-DL-FINFUNGUS.mp4\n",
      "2018-08-14 08:30:05.156789\n"
     ]
    }
   ],
   "source": [
    "# Loop over all videos in a dir, process, and save MatchResults\n",
    "\n",
    "videos = glob.glob('VideoLibrary/*.mp4')\n",
    "overwrite = True   # Set to True to reprocess and overwrite old MatchResults\n",
    "\n",
    "print(datetime.datetime.now())\n",
    "for filename in videos:\n",
    "    ofilename = 'MatchResults/'  + str(os.path.basename(filename))+'.pkl'\n",
    "    if overwrite==False and os.path.exists(ofilename):\n",
    "        print('MatchResult already exists.  Skipping video file: {}'.format(ofilename))\n",
    "        continue\n",
    "    \n",
    "    print('Processing video file: {}'.format(filename))\n",
    "    match_result = cvis.process_video(filename)\n",
    "    print(datetime.datetime.now())\n",
    "    \n",
    "    with open(ofilename, 'w') as f:\n",
    "        pickle.dump(match_result,f)"
   ]
  },
  {
   "cell_type": "markdown",
   "metadata": {
    "collapsed": true
   },
   "source": [
    "# Logs showing typical processing times:\n",
    "2018-06-17 10:01:09.787490\n",
    "Processing video file: VideoLibrary/PyeongChang.Olympics.2018.curling.men's.round-robin.Sweden.v.Norway.1080p.NBC.WEB-DL-FINFUNGUS.mp4\n",
    "2018-06-17 10:46:18.857177\n",
    "Processing video file: VideoLibrary/PyeongChang.Olympics.2018.curling.men's.round-robin.USA.v.Canada.1080p.NBC.WEB-DL-FINFUNGUS.mp4\n",
    "2018-06-17 12:04:17.972625\n",
    "Processing video file: VideoLibrary/PyeongChang.Olympics.2018.curling.men's.round-robin.USA.v.Norway.1080p.NBC.WEB-DL-FINFUNGUS.mp4\n",
    "2018-06-17 12:59:20.778749\n",
    "Processing video file: VideoLibrary/PyeongChang.Olympics.2018.curling.mixed.doubles.bronze.1080p.NBC.WEB-DL-FINFUNGUS.mp4\n",
    "2018-06-17 13:39:01.481631\n",
    "Processing video file: VideoLibrary/PyeongChang.Olympics.2018.curling.mixed.doubles.round-robin.tiebreaker.1080p.NBC.WEB-DL-FINFUNGUS.mp4\n",
    "2018-06-17 14:15:43.767280\n",
    "Processing video file: VideoLibrary/PyeongChang.Olympics.2018.curling.mixed.doubles.semifinal.1.1080p.NBC.WEB-DL-FINFUNGUS.mp4\n",
    "2018-06-17 14:56:19.315766\n",
    "Processing video file: VideoLibrary/PyeongChang.Olympics.2018.curling.mixed.doubles.semifinal.2.1080p.NBC.WEB-DL-FINFUNGUS.mp4\n",
    "2018-06-17 15:38:34.774384\n",
    "Processing video file: VideoLibrary/PyeongChang.Olympics.2018.curling.women's.round-robin.China.v.USA.1080p.NBC.WEB-DL-FINFUNGUS.mp4\n",
    "2018-06-17 16:28:33.130201\n",
    "Processing video file: VideoLibrary/PyeongChang.Olympics.2018.curling.women's.round-robin.Denmark.v.Canada.1080p.NBC.WEB-DL-FINFUNGUS.mp4\n",
    "2018-06-17 17:48:25.340385\n",
    "Processing video file: VideoLibrary/PyeongChang.Olympics.2018.curling.women's.round-robin.Great.Britain.v.Sweden.1080p.NBC.WEB-DL-FINFUNGUS.mp4\n",
    "2018-06-17 19:01:43.644790\n",
    "Processing video file: VideoLibrary/PyeongChang.Olympics.2018.curling.women's.round-robin.Japan.v.Sweden.1080p.NBC.WEB-DL-FINFUNGUS.mp4\n",
    "2018-06-17 19:54:32.196055\n",
    "Processing video file: VideoLibrary/PyeongChang.Olympics.2018.curling.women's.round-robin.USA.v.Canada.1080p.NBC.WEB-DL-FINFUNGUS.mp4\n",
    "2018-06-17 20:36:02.738999\n",
    "Processing video file: VideoLibrary/PyeongChang.Olympics.2018.curling.women's.semi-finals.Korea.v.Japan.1080p.NBC.WEB-DL-FINFUNGUS.mp4\n",
    "2018-06-17 20:36:03.453751"
   ]
  },
  {
   "cell_type": "code",
   "execution_count": 4,
   "metadata": {
    "collapsed": false
   },
   "outputs": [
    {
     "name": "stdout",
     "output_type": "stream",
     "text": [
      "PyeongChang.Olympics.2018.curling.men's.bronze.medal.match.Switzerland.v.Canada.1080p.NBC.WEB-DL-FINFUNGUS.mp4.pkl\r\n",
      "PyeongChang.Olympics.2018.curling.men's.gold.medal.match.Sweden.v.USA.1080p.NBC.WEB-DL-FINFUNGUS.mp4.pkl\r\n",
      "PyeongChang.Olympics.2018.curling.men's.round-robin.Canada.v.Sweden.1080p.NBC.WEB-DL-FINFUNGUS.mp4.pkl\r\n",
      "PyeongChang.Olympics.2018.curling.men's.round-robin.Denmark.v.Sweden.1080p.NBC.WEB-DL-FINFUNGUS.mp4.pkl\r\n",
      "PyeongChang.Olympics.2018.curling.men's.round-robin.Great.Britain.v.Denmark.1080p.NBC.WEB-DL-FINFUNGUS.mp4.pkl\r\n",
      "PyeongChang.Olympics.2018.curling.men's.round-robin.Japan.v.Canada.1080p.NBC.WEB-DL-FINFUNGUS.mp4.pkl\r\n",
      "PyeongChang.Olympics.2018.curling.men's.round-robin.Sweden.v.Norway.1080p.NBC.WEB-DL-FINFUNGUS.mp4.pkl\r\n",
      "PyeongChang.Olympics.2018.curling.men's.round-robin.Sweden.v.USA.1080p.NBC.WEB-DL-FINFUNGUS.mp4.pkl\r\n",
      "PyeongChang.Olympics.2018.curling.men's.round-robin.USA.v.Canada.1080p.NBC.WEB-DL-FINFUNGUS.mp4.pkl\r\n",
      "PyeongChang.Olympics.2018.curling.men's.round-robin.USA.v.Norway.1080p.NBC.WEB-DL-FINFUNGUS.mp4.pkl\r\n",
      "PyeongChang.Olympics.2018.curling.mixed.doubles.bronze.1080p.NBC.WEB-DL-FINFUNGUS.mp4.pkl\r\n",
      "PyeongChang.Olympics.2018.curling.mixed.doubles.round-robin.tiebreaker.1080p.NBC.WEB-DL-FINFUNGUS.mp4.pkl\r\n",
      "PyeongChang.Olympics.2018.curling.mixed.doubles.semifinal.1.1080p.NBC.WEB-DL-FINFUNGUS.mp4.pkl\r\n",
      "PyeongChang.Olympics.2018.curling.mixed.doubles.semifinal.2.1080p.NBC.WEB-DL-FINFUNGUS.mp4.pkl\r\n",
      "PyeongChang.Olympics.2018.curling.women's.bronze.medal.match.Great.Britain.v.Japan.1080p.NBC.WEB-DL-FINFUNGUS.mp4.pkl\r\n",
      "PyeongChang.Olympics.2018.curling.women's.gold.medal.match.Sweden.v.Korea.1080p.NBC.WEB-DL-FINFUNGUS.mp4.pkl\r\n",
      "PyeongChang.Olympics.2018.curling.women's.round-robin.Canada.v.Sweden.1080p.NBC.WEB-DL-FINFUNGUS.mp4.pkl\r\n",
      "PyeongChang.Olympics.2018.curling.women's.round-robin.China.v.USA.1080p.NBC.WEB-DL-FINFUNGUS.mp4.pkl\r\n",
      "PyeongChang.Olympics.2018.curling.women's.round-robin.Denmark.v.Canada.1080p.NBC.WEB-DL-FINFUNGUS.mp4.pkl\r\n",
      "PyeongChang.Olympics.2018.curling.women's.round-robin.Great.Britain.v.Sweden.1080p.NBC.WEB-DL-FINFUNGUS.mp4.pkl\r\n",
      "PyeongChang.Olympics.2018.curling.women's.round-robin.Japan.v.Sweden.1080p.NBC.WEB-DL-FINFUNGUS.mp4.pkl\r\n",
      "PyeongChang.Olympics.2018.curling.women's.round-robin.Russia.v.Canada.1080p.NBC.WEB-DL-FINFUNGUS.mp4.pkl\r\n",
      "PyeongChang.Olympics.2018.curling.women's.round-robin.USA.v.Canada.1080p.NBC.WEB-DL-FINFUNGUS.mp4.pkl\r\n",
      "PyeongChang.Olympics.2018.curling.women's.semi-finals.Korea.v.Japan.1080p.NBC.WEB-DL-FINFUNGUS.mp4.pkl\r\n"
     ]
    }
   ],
   "source": [
    "ls MatchResults"
   ]
  },
  {
   "cell_type": "code",
   "execution_count": null,
   "metadata": {
    "collapsed": true
   },
   "outputs": [],
   "source": []
  }
 ],
 "metadata": {
  "anaconda-cloud": {},
  "kernelspec": {
   "display_name": "Python [Root]",
   "language": "python",
   "name": "Python [Root]"
  },
  "language_info": {
   "codemirror_mode": {
    "name": "ipython",
    "version": 2
   },
   "file_extension": ".py",
   "mimetype": "text/x-python",
   "name": "python",
   "nbconvert_exporter": "python",
   "pygments_lexer": "ipython2",
   "version": "2.7.12"
  }
 },
 "nbformat": 4,
 "nbformat_minor": 0
}
