{
 "cells": [
  {
   "cell_type": "code",
   "execution_count": 1,
   "metadata": {
    "collapsed": false
   },
   "outputs": [
    {
     "name": "stderr",
     "output_type": "stream",
     "text": [
      "/Users/jpdumm/anaconda2/lib/python2.7/site-packages/matplotlib/font_manager.py:273: UserWarning: Matplotlib is building the font cache using fc-list. This may take a moment.\n",
      "  warnings.warn('Matplotlib is building the font cache using fc-list. This may take a moment.')\n"
     ]
    }
   ],
   "source": [
    "%matplotlib inline\n",
    "import os\n",
    "import glob\n",
    "import pickle\n",
    "import curlovision as cvis\n",
    "import datetime"
   ]
  },
  {
   "cell_type": "code",
   "execution_count": 2,
   "metadata": {
    "collapsed": false
   },
   "outputs": [
    {
     "name": "stdout",
     "output_type": "stream",
     "text": [
      "2018-05-19 15:37:49.804345\n",
      "Processing video file: VideoLibrary/PyeongChang.Olympics.2018.curling.men's.bronze.medal.match.Switzerland.v.Canada.1080p.NBC.WEB-DL-FINFUNGUS.mp4\n",
      "2018-05-19 17:02:46.731423\n",
      "Processing video file: VideoLibrary/PyeongChang.Olympics.2018.curling.men's.gold.medal.match.Sweden.v.USA.1080p.NBC.WEB-DL-FINFUNGUS.mp4\n",
      "2018-05-19 18:08:51.764737\n",
      "Processing video file: VideoLibrary/PyeongChang.Olympics.2018.curling.men's.round-robin.Sweden.v.USA.1080p.NBC.WEB-DL-FINFUNGUS.mp4\n",
      "2018-05-19 18:46:03.186420\n",
      "Processing video file: VideoLibrary/PyeongChang.Olympics.2018.curling.women's.bronze.medal.match.Great.Britain.v.Japan.1080p.NBC.WEB-DL-FINFUNGUS.mp4\n",
      "2018-05-19 19:27:30.539357\n",
      "Processing video file: VideoLibrary/PyeongChang.Olympics.2018.curling.women's.gold.medal.match.Sweden.v.Korea.1080p.NBC.WEB-DL-FINFUNGUS.mp4\n",
      "2018-05-19 20:12:29.488294\n",
      "Processing video file: VideoLibrary/PyeongChang.Olympics.2018.curling.women's.round-robin.Canada.v.Sweden.1080p.NBC.WEB-DL-FINFUNGUS.mp4\n",
      "2018-05-19 20:33:35.821048\n",
      "Processing video file: VideoLibrary/PyeongChang.Olympics.2018.curling.women's.round-robin.Denmark.v.Canada.1080p.NBC.WEB-DL-FINFUNGUS.mp4\n",
      "2018-05-19 20:54:44.019644\n",
      "Processing video file: VideoLibrary/PyeongChang.Olympics.2018.curling.women's.round-robin.Russia.v.Canada.1080p.NBC.WEB-DL-FINFUNGUS.mp4\n",
      "2018-05-19 22:10:18.868613\n",
      "Processing video file: VideoLibrary/PyeongChang.Olympics.2018.curling.women's.round-robin.USA.v.Canada.1080p.NBC.WEB-DL-FINFUNGUS.mp4\n",
      "2018-05-19 22:18:39.806712\n",
      "Processing video file: VideoLibrary/PyeongChang.Olympics.2018.curling.women's.semi-finals.Korea.v.Japan.1080p.NBC.WEB-DL-FINFUNGUS.mp4\n",
      "2018-05-19 23:37:34.191170\n"
     ]
    }
   ],
   "source": [
    "# Loop over all videos in a dir, process, and save MatchResults\n",
    "videos = glob.glob('VideoLibrary/*.mp4')\n",
    "print(datetime.datetime.now())\n",
    "for filename in videos:\n",
    "    print('Processing video file: {}'.format(filename))\n",
    "    match_result = cvis.process_video(filename)\n",
    "    print(datetime.datetime.now())\n",
    "    \n",
    "    ofilename = 'MatchResults/'  + str(os.path.basename(filename))\n",
    "    with open(ofilename+'.pkl', 'w') as f:\n",
    "        pickle.dump(match_result,f)"
   ]
  },
  {
   "cell_type": "code",
   "execution_count": null,
   "metadata": {
    "collapsed": true
   },
   "outputs": [],
   "source": []
  }
 ],
 "metadata": {
  "kernelspec": {
   "display_name": "Python [Root]",
   "language": "python",
   "name": "Python [Root]"
  },
  "language_info": {
   "codemirror_mode": {
    "name": "ipython",
    "version": 2
   },
   "file_extension": ".py",
   "mimetype": "text/x-python",
   "name": "python",
   "nbconvert_exporter": "python",
   "pygments_lexer": "ipython2",
   "version": "2.7.12"
  }
 },
 "nbformat": 4,
 "nbformat_minor": 0
}
