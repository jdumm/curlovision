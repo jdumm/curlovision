{
 "cells": [
  {
   "cell_type": "code",
   "execution_count": null,
   "metadata": {},
   "outputs": [],
   "source": [
    "%matplotlib inline\n",
    "import os\n",
    "import glob\n",
    "import pickle\n",
    "import curlovision as cvis\n",
    "import datetime"
   ]
  },
  {
   "cell_type": "code",
   "execution_count": null,
   "metadata": {
    "scrolled": true
   },
   "outputs": [],
   "source": [
    "import importlib\n",
    "importlib.reload(cvis)\n",
    "# Loop over all videos in a dir, process, and save MatchResults\n",
    "#filename = \"VideoLibrary/PyeongChang.Olympics.2018.curling.men's.bronze.medal.match.Switzerland.v.Canada.1080p.NBC.WEB-DL-FINFUNGUS.mp4\"\n",
    "filename = \"VideoLibrary/sample_videos/vlc-record-2018-06-06-17h35m21s-PyeongChang.Olympics.2018.curling.men.mp4\"\n",
    "print(datetime.datetime.now())\n",
    "frame_start=0\n",
    "print('Processing video file: {}'.format(filename))\n",
    "# Can process one video showing details of key frames and enabling various deeper debugging options:\n",
    "match_result = cvis.process_video(filename,frame_start=frame_start,\n",
    "                                  draw_key_frames=True,draw_test_frames=True,\n",
    "                                  debug_12ft=False,debug_stones=False,debug_scoreboard=False)\n",
    "print(datetime.datetime.now())\n"
   ]
  },
  {
   "cell_type": "code",
   "execution_count": null,
   "metadata": {},
   "outputs": [],
   "source": [
    "prev_run_match_result = match_result"
   ]
  },
  {
   "cell_type": "code",
   "execution_count": null,
   "metadata": {
    "scrolled": true
   },
   "outputs": [],
   "source": [
    "import importlib\n",
    "importlib.reload(cvis)\n",
    "# Now quickly reprocess the same match using the key frames identified in the previous run:\n",
    "#\n",
    "filename = \"VideoLibrary/sample_videos/vlc-record-2018-06-06-17h35m21s-PyeongChang.Olympics.2018.curling.men.mp4\"\n",
    "print(datetime.datetime.now())\n",
    "frame_start=0\n",
    "print('Processing video file: {}'.format(filename))\n",
    "# Can process one video showing details of key frames and enabling various deeper debugging options:\n",
    "match_result = cvis.process_video(filename,frame_start=frame_start,\n",
    "                                  draw_key_frames=True,draw_test_frames=True,\n",
    "                                  debug_12ft=False,debug_stones=False,debug_scoreboard=False,\n",
    "                                  use_cached_key_frames=True, prev_run_match_result=prev_run_match_result)\n",
    "print(datetime.datetime.now())"
   ]
  },
  {
   "cell_type": "code",
   "execution_count": null,
   "metadata": {},
   "outputs": [],
   "source": [
    "prev_run_match_result == match_result"
   ]
  },
  {
   "cell_type": "code",
   "execution_count": null,
   "metadata": {},
   "outputs": [],
   "source": [
    "len(prev_run_match_result.key_frame_cache)"
   ]
  },
  {
   "cell_type": "code",
   "execution_count": null,
   "metadata": {},
   "outputs": [],
   "source": [
    "len(match_result.end_results[0].stone_layouts)"
   ]
  },
  {
   "cell_type": "code",
   "execution_count": null,
   "metadata": {},
   "outputs": [],
   "source": [
    "match_result.end_results[0].stone_layouts[2].draw()"
   ]
  },
  {
   "cell_type": "code",
   "execution_count": null,
   "metadata": {},
   "outputs": [],
   "source": [
    "for a,b in zip(prev_run_match_result.end_results[0].stone_layouts,match_result.end_results[0].stone_layouts):\n",
    "    print(\"A\",a)\n",
    "    print(\"B\",b)\n",
    "    print(\"--------\")"
   ]
  },
  {
   "cell_type": "code",
   "execution_count": null,
   "metadata": {
    "scrolled": true
   },
   "outputs": [],
   "source": [
    "for a,b in zip(prev_run_match_result.end_results[0].stone_layouts[0:3],match_result.end_results[0].stone_layouts[0:3]):\n",
    "    print(\"A\",a)\n",
    "    a.draw()\n",
    "    print(\"B\",b)\n",
    "    b.draw()\n",
    "    print(\"--------\")"
   ]
  },
  {
   "cell_type": "code",
   "execution_count": null,
   "metadata": {},
   "outputs": [],
   "source": [
    "len(match_result.end_results[0].stone_layouts[0])"
   ]
  },
  {
   "cell_type": "code",
   "execution_count": null,
   "metadata": {},
   "outputs": [],
   "source": []
  },
  {
   "cell_type": "code",
   "execution_count": null,
   "metadata": {
    "scrolled": false
   },
   "outputs": [],
   "source": [
    "import cv2\n",
    "import matplotlib.pyplot as plt\n",
    "\n",
    "vid_filename = \"VideoLibrary/sample_videos/vlc-record-2018-06-06-17h35m21s-PyeongChang.Olympics.2018.curling.men.mp4\"\n",
    "cap = cv2.VideoCapture(vid_filename)\n",
    "cap.set(1,1079)\n",
    "ret,frame = cap.read()\n",
    "plt.figure(figsize=(10,10))\n",
    "plt.imshow(cv2.cvtColor(frame, cv2.COLOR_BGR2RGB))\n",
    "plt.show()"
   ]
  },
  {
   "cell_type": "code",
   "execution_count": null,
   "metadata": {},
   "outputs": [],
   "source": [
    "%%timeit\n",
    "fcount=0\n",
    "cap.set(1,fcount)\n",
    "\n",
    "for j in range(15):\n",
    "    for i in range(5):\n",
    "        #print(i,fcount)\n",
    "        ret, frame1 = cap.read()\n",
    "         #if not ret: break # Corrupt frame or end of file\n",
    "        if not ret:\n",
    "            vid_end_found = True\n",
    "            break # Corrupt frame or end of file\n",
    "        fcount += 1\n",
    "print(fcount)"
   ]
  },
  {
   "cell_type": "code",
   "execution_count": null,
   "metadata": {},
   "outputs": [],
   "source": [
    "%%timeit\n",
    "fcount=0\n",
    "cap.set(1,fcount)\n",
    "\n",
    "for j in range(15):\n",
    "    cap.set(1,fcount)\n",
    "    #print(i,fcount)\n",
    "    ret, frame1 = cap.read()\n",
    "     #if not ret: break # Corrupt frame or end of file\n",
    "    if not ret:\n",
    "        vid_end_found = True\n",
    "        break # Corrupt frame or end of file\n",
    "    fcount += 5\n",
    "print(fcount)"
   ]
  },
  {
   "cell_type": "code",
   "execution_count": null,
   "metadata": {},
   "outputs": [],
   "source": [
    "import cv2\n",
    "import matplotlib.pyplot as plt\n",
    "\n",
    "vid_filename = \"VideoLibrary/sample_videos/vlc-record-2018-06-06-17h35m21s-PyeongChang.Olympics.2018.curling.men.mp4\"\n",
    "cap1 = cv2.VideoCapture(vid_filename)\n",
    "cap2 = cv2.VideoCapture(vid_filename)\n",
    "\n",
    "cap1.set(1,0)\n",
    "#fcount=0\n",
    "equality_check = []\n",
    "for i in range(80):\n",
    "    fn = int(cap1.get(1))\n",
    "    cap2.set(1,fn)\n",
    "    ret, frame1 = cap1.read()\n",
    "    ret, frame2 = cap2.read() \n",
    "    equality_check.append( np.all(frame1==frame2) )\n",
    "print(equality_check)  # wtf"
   ]
  },
  {
   "cell_type": "code",
   "execution_count": null,
   "metadata": {},
   "outputs": [],
   "source": []
  }
 ],
 "metadata": {
  "anaconda-cloud": {},
  "kernelspec": {
   "display_name": "Python 3",
   "language": "python",
   "name": "python3"
  },
  "language_info": {
   "codemirror_mode": {
    "name": "ipython",
    "version": 3
   },
   "file_extension": ".py",
   "mimetype": "text/x-python",
   "name": "python",
   "nbconvert_exporter": "python",
   "pygments_lexer": "ipython3",
   "version": "3.6.7"
  }
 },
 "nbformat": 4,
 "nbformat_minor": 1
}
