{
 "cells": [
  {
   "cell_type": "code",
   "execution_count": null,
   "metadata": {},
   "outputs": [],
   "source": [
    "%matplotlib inline\n",
    "import os\n",
    "import glob\n",
    "import pickle\n",
    "from context import curlovision as cvis\n",
    "import datetime\n",
    "import matplotlib.pyplot as plt\n",
    "from matplotlib.patches import Circle, Rectangle\n",
    "from matplotlib.collections import PatchCollection\n",
    "import numpy as np\n",
    "import math"
   ]
  },
  {
   "cell_type": "code",
   "execution_count": null,
   "metadata": {},
   "outputs": [],
   "source": [
    "# Loop over and load all processed MatchResults\n",
    "results = glob.glob('../data/MatchResults/*.pkl')\n",
    "match_results = []\n",
    "for filename in results:\n",
    "    print('Processing MatchResult: {}'.format(filename))\n",
    "    with open(filename, 'rb') as f:\n",
    "        match_results.append(pickle.load(f))"
   ]
  },
  {
   "cell_type": "code",
   "execution_count": null,
   "metadata": {},
   "outputs": [],
   "source": [
    "# Start with the background\n",
    "h=1500\n",
    "patches,ft2px,xc,yc = cvis.draw_house(height=h)\n",
    "\n",
    "# Loop over stones and do some analysis of the first 4 stones\n",
    "results = []\n",
    "nmatches = 0\n",
    "nends = 0\n",
    "for mr in match_results[:]:\n",
    "    nmatches += 1\n",
    "    #print(mr.name)\n",
    "    prev_red_score = 0  # Each game starts at 0\n",
    "    prev_yel_score = 0\n",
    "    for er in mr.end_results[:]:\n",
    "        nends += 1\n",
    "        red_score_gain = er.red_score - prev_red_score\n",
    "        yel_score_gain = er.yel_score - prev_yel_score\n",
    "        hammer_color = 'red' if er.red_hammer else 'yellow'\n",
    "        hammer_score_gain = red_score_gain if er.red_hammer else yel_score_gain\n",
    "        nonham_score_gain = yel_score_gain if er.red_hammer else red_score_gain\n",
    "        free_guards_total  = 0\n",
    "        free_guards_hammer = 0\n",
    "        free_guards_nonham = 0\n",
    "        for layout,stones_left in zip(er.stone_layouts,er.stones_left):\n",
    "            stones_thrown = (16 - stones_left[0] - stones_left[1])\n",
    "            for stone in layout.stones:\n",
    "                if stones_thrown > 4:\n",
    "                    continue\n",
    "                hammer_team = True if stone.color==hammer_color else False # Rock thrown by team with hammer?\n",
    "                x = stone.x\n",
    "                y = stone.y\n",
    "                r = math.sqrt(x**2 + y**2) - layout.stone_radius  # distance of closest edge of stone to center\n",
    "                if x<-7 or x>7 or y<-8 or y>20: continue  # Filter out-of-bounds stones\n",
    "                # Is the stone in the free guard zone?\n",
    "                if y>0 and y<20 and r>6:\n",
    "                    #print('Free Guard found',x,y,r)\n",
    "                    free_guards_total += 1\n",
    "                    if hammer_team: free_guards_hammer += 1\n",
    "                    else:           free_guards_nonham += 1\n",
    "                else: continue\n",
    "                c=[1,0,0] if hammer_team else [1,1,0]  # Red if hammer or Yellow if nonhammer for this end\n",
    "                alpha = 0.17\n",
    "                #alpha = 0.12 if n<=4 else 0.03  # Make lead stones heftier\n",
    "                patches.append(Circle((xc+x*ft2px, yc-y*ft2px), 0.5*ft2px ,color=c,alpha=alpha))\n",
    "\n",
    "        # Record a list of number of guards and resulting score:\n",
    "        results.append((free_guards_hammer,free_guards_nonham,hammer_score_gain,nonham_score_gain))\n",
    "        #print(free_guards_hammer,free_guards_nonham,hammer_score_gain,nonham_score_gain)\n",
    "        prev_red_score = er.red_score\n",
    "        prev_yel_score = er.yel_score\n",
    "\n",
    "# Display everything\n",
    "fig = plt.figure(figsize=(h/80.,int(h*14./30.)/80.))\n",
    "img = np.ones((h,int(h*14./30.),3),dtype=float)\n",
    "plt.imshow(img)\n",
    "for patch in patches:\n",
    "    fig.gca().add_patch(patch)\n",
    "plt.show()"
   ]
  },
  {
   "cell_type": "code",
   "execution_count": null,
   "metadata": {},
   "outputs": [],
   "source": [
    "# There's one odd end result with a score gain of ~28 (score of 33 I think - it's an error, let's filter it out)\n",
    "results = np.array(results)\n",
    "print(len(results))\n",
    "results = results[results[:,3]<=8]\n",
    "results = results[results[:,3]>=0]\n",
    "results[:,0] = np.clip(results[:,0],0,3)\n",
    "results[:,1] = np.clip(results[:,1],0,3)\n",
    "print(len(results))"
   ]
  },
  {
   "cell_type": "code",
   "execution_count": null,
   "metadata": {},
   "outputs": [],
   "source": [
    "# Simplify the results to make it easier to interpret:\n",
    "for i,result in enumerate(results):\n",
    "    #print(i,result)\n",
    "    if result[0]==1 or result[0]==2: result[0]=1\n",
    "    if result[0]>=3: result[0]=2\n",
    "    if result[1]==1 or result[1]==2: result[1]=1\n",
    "    if result[1]>=3: result[1]=2\n",
    "    "
   ]
  },
  {
   "cell_type": "code",
   "execution_count": null,
   "metadata": {},
   "outputs": [],
   "source": [
    "# Print some basic stats:\n",
    "print(\"Total matches analyzed:\",nmatches)\n",
    "print(\"Total ends analyzed:\",nends)\n",
    "print(\"Total free guards thrown by hammer team:\",np.sum(results[:,0]))\n",
    "print(\"Total free guards thrown by nonham team:\",np.sum(results[:,1]))\n",
    "print(\"Total points from hammer teams:\",np.sum(results[:,2]))\n",
    "print(\"Total points from nonham teams:\",np.sum(results[:,3]))\n",
    "\n",
    "print(\"Total number of ends with no free guards thrown by hammer team:\",np.sum(len(results[results[:,0]==0])))\n",
    "print(\"Total number of ends with no free guards thrown by nonham team:\",np.sum(len(results[results[:,1]==0])))\n"
   ]
  },
  {
   "cell_type": "code",
   "execution_count": null,
   "metadata": {},
   "outputs": [],
   "source": [
    "# Just plot the raw score distributions for the hammer(red) and non-hammer teams:\n",
    "plt.figure()\n",
    "bins = np.linspace(0,7,8)\n",
    "#plt.yscale('log')\n",
    "plt.hist(results[:,0],histtype='step',bins=bins,color='red')\n",
    "plt.hist(results[:,1],histtype='step',bins=bins,color='yellow')\n",
    "plt.show"
   ]
  },
  {
   "cell_type": "code",
   "execution_count": null,
   "metadata": {},
   "outputs": [],
   "source": [
    "# Hammer team score vs number of free guards that they throw:\n",
    "plt.figure()\n",
    "plt.hist2d(results[:,0],results[:,2],bins=[3,np.max(results[:,3])],cmap='YlOrBr')\n",
    "plt.show()"
   ]
  },
  {
   "cell_type": "code",
   "execution_count": null,
   "metadata": {},
   "outputs": [],
   "source": [
    "# Non-hammer team score vs number of free guards that they throw:\n",
    "plt.figure()\n",
    "plt.hist2d(results[:,1],results[:,3],bins=[3,np.max(results[:,3])],cmap='YlOrBr')\n",
    "plt.show()"
   ]
  },
  {
   "cell_type": "code",
   "execution_count": null,
   "metadata": {},
   "outputs": [],
   "source": [
    "hcounts,xedges,yedges = np.histogram2d(results[:,0],results[:,1],bins=[3,3])\n",
    "h1,xedges,yedges      = np.histogram2d(results[:,0],results[:,1],weights=results[:,2],bins=[3,3])\n",
    "h2,xedges,yedges      = np.histogram2d(results[:,0],results[:,1],weights=results[:,3],bins=[3,3])\n",
    "\n",
    "plt.figure(figsize=(4,3))\n",
    "plt.xlabel('Num Free Guards (Hammer team)')\n",
    "plt.ylabel('Num Free Guards (Non-hammer team)')#np.clip(ratio,0.5,1.5,out=ratio)\n",
    "X,Y = np.meshgrid(xedges, yedges)\n",
    "ratio = np.divide(h1,hcounts)\n",
    "#ratio[np.isnan(ratio)] = 1.0\n",
    "#pc = plt.gca().pcolormesh(X, Y, h1.T, cmap='YlOrBr')\n",
    "pc = plt.gca().pcolormesh(X, Y, ratio.T, cmap='YlOrBr')\n",
    "plt.colorbar(pc).set_label(r'Average hammer team score')\n",
    "plt.show()\n",
    "\n",
    "\n",
    "plt.figure(figsize=(4,3))\n",
    "plt.xlabel('Num Free Guards (Hammer team)')\n",
    "plt.ylabel('Num Free Guards (Non-hammer team)')#np.clip(ratio,0.5,1.5,out=ratio)\n",
    "X,Y = np.meshgrid(xedges, yedges)\n",
    "ratio = np.divide(h2,hcounts)\n",
    "#ratio[np.isnan(ratio)] = 1.0\n",
    "#pc = plt.gca().pcolormesh(X, Y, h1.T, cmap='YlOrBr')\n",
    "pc = plt.gca().pcolormesh(X, Y, ratio.T, cmap='YlOrBr')\n",
    "plt.colorbar(pc).set_label(r'Average non-hammer team score')\n",
    "plt.show()"
   ]
  },
  {
   "cell_type": "code",
   "execution_count": null,
   "metadata": {},
   "outputs": [],
   "source": [
    "avg_score_hammer = np.average(results[:,2])\n",
    "avg_score_nonham = np.average(results[:,3])\n",
    "\n",
    "print( 'Average score of the hammer team: {:1f}'.format(avg_score_hammer) )\n",
    "print( 'Average score of the nonham team: {:1f}'.format(avg_score_nonham) )\n",
    "\n",
    "# Filter out blank ends where the hammer team decides to keep the hammer:\n",
    "avg_score_hammer_noblanks = np.average(results[(results[:,2]>0) | (results[:,3]>0)][:,2])\n",
    "print( '-->hammer but with no blank ends: {:1f}'.format(avg_score_hammer_noblanks) )\n"
   ]
  },
  {
   "cell_type": "code",
   "execution_count": null,
   "metadata": {},
   "outputs": [],
   "source": [
    "# E.g. List of scores of the hammer team when 2 free guards were in play. \n",
    "print( len(results[results[:,0]==2][:,2]) )"
   ]
  },
  {
   "cell_type": "code",
   "execution_count": null,
   "metadata": {},
   "outputs": [],
   "source": [
    "num_guards = np.array([0,1,2],dtype=int)\n",
    "avg_hammer_scores = np.empty(len(num_guards))\n",
    "avg_nonham_scores = np.empty(len(num_guards))\n",
    "for num_guard in num_guards:\n",
    "    # Including blank ends:\n",
    "    #avg_hammer_scores[num_guard] = np.average(results[(results[:,0]==num_guard)][:,2])\n",
    "    # Filter out blank ends:\n",
    "    avg_hammer_scores[num_guard] = np.average(results[(results[:,0]==num_guard) & ((results[:,2]>0) | (results[:,3]>0))][:,2])\n",
    "    avg_nonham_scores[num_guard] = np.average(results[results[:,1]==num_guard][:,3])\n",
    "\n",
    "print('Number of free guards   : {:1d},   \\t{:1d},   \\t{:1d}'.format(0,1,2))\n",
    "print('Avg score of hammer team: {:0.2f},\\t{:0.2f},\\t{:0.2f}'.format(avg_hammer_scores[0],avg_hammer_scores[1],avg_hammer_scores[2]))\n",
    "print('Avg score of nonham team: {:0.2f},\\t{:0.2f},\\t{:0.2f}'.format(avg_nonham_scores[0],avg_nonham_scores[1],avg_nonham_scores[2]))\n"
   ]
  },
  {
   "cell_type": "code",
   "execution_count": null,
   "metadata": {},
   "outputs": [],
   "source": [
    "num_guards = np.array([0,1,2],dtype=int)\n",
    "count        = np.empty(len(num_guards),dtype=int)\n",
    "hammer_blank = np.empty(len(num_guards),dtype=int)\n",
    "hammer_multi = np.empty(len(num_guards),dtype=int)\n",
    "nonham_steal = np.empty(len(num_guards),dtype=int)\n",
    "for num_guard in num_guards:\n",
    "    sub_results = results[(results[:,0]==num_guard)]  # For hammer team\n",
    "    #sub_results = results[(results[:,1]==num_guard)]  # For non-hammer team\n",
    "    count[num_guard] = len(sub_results)\n",
    "    hammer_blank[num_guard] = len(sub_results[(sub_results[:,2]==0) & (sub_results[:,3]==0)])\n",
    "    hammer_multi[num_guard] = len(sub_results[sub_results[:,2]>1])\n",
    "    nonham_steal[num_guard] = len(sub_results[sub_results[:,3]>0])\n",
    "\n",
    "print('Number of hammer guards : {:1d},   \\t{:1d},   \\t{:1d}'.format(0,1,2))\n",
    "print('Number of ends          : {:1d},\\t{:1d},\\t{:1d}'.format(count[0],count[1],count[2],))\n",
    "print('Number of blank end     : {:1d},\\t{:1d},\\t{:1d}'.format(hammer_blank[0],hammer_blank[1],hammer_blank[2]))\n",
    "print('Number hammer 2+ scores : {:1d},\\t{:1d},\\t{:1d}'.format(hammer_multi[0],hammer_multi[1],hammer_multi[2]))\n",
    "print('Number of steals        : {:1d},\\t{:1d},\\t{:1d}'.format(nonham_steal[0],nonham_steal[1],nonham_steal[2]))\n"
   ]
  },
  {
   "cell_type": "markdown",
   "metadata": {
    "collapsed": true
   },
   "source": [
    "'''\n",
    "Summary:\n",
    "We see an average hammer-team score of 1.07 and non-hammer-team score of 0.21 per end.  Hammer teams often keep a\n",
    "strategic advantage by forcing a blank end, so we'll consider that separately.  Filtering out blank ends gives\n",
    "an average hammer-team score of 1.34.  Hammer-teams who only use zero or one free guard end up scoring more than\n",
    "the average, 1.40 and 1.37 respectively.  Only ~20% (43 out of 211 ends analyzed) showed a hammer-team using \n",
    "both available free guards, and the average score was significantly reduced 1.34 --> 1.17 in this case.  The\n",
    "chance for the non-hammer team to steal increases when the hammer team uses both guards (17-->21%), and the chance\n",
    "to force a blank end descreases by a similar magnitude (21%-->16%).  Hard to say if it's the hammer team being\n",
    "forced to blank the end or if it is done by choice, but the conclusion is more stones = more chaos. \n",
    "\n",
    "The non-hammer team's score and chance to steal showed a similar trend.  The average score of 0.21 improves \n",
    "slightly when using zero or one free guard (0.21 and 0.25, repectively) but again decreases when using \n",
    "both guards (0.16).  Tracking that, the chance to steal decreases from 18% --> 15% when using two free guards.  \n",
    "\n",
    "In short, utilizing 0 or 1 stones for a guard is the most common and highest scoring opening play.  But expending\n",
    "a second stone as an opening guard somewhat decreases scoring potential for the both the hammer and non-hammer teams.\n",
    "\n",
    "A more in-depth and practical analysis would look at this as decision tree:\n",
    " 1) Do I have the lead (non-hammer team)?\n",
    "   (yes) Should I or shouldn't I use my first stone as a free guard?\n",
    "   (no ) Was the opening stone a free guard\n",
    " etc.\n",
    " \n",
    "However, the long-term goal of this project is to build a machine learning model that does this all for us in a more\n",
    "general manner than just looking at free guards!\n",
    "'''"
   ]
  },
  {
   "cell_type": "code",
   "execution_count": null,
   "metadata": {},
   "outputs": [],
   "source": []
  }
 ],
 "metadata": {
  "kernelspec": {
   "display_name": "Python 3",
   "language": "python",
   "name": "python3"
  },
  "language_info": {
   "codemirror_mode": {
    "name": "ipython",
    "version": 3
   },
   "file_extension": ".py",
   "mimetype": "text/x-python",
   "name": "python",
   "nbconvert_exporter": "python",
   "pygments_lexer": "ipython3",
   "version": "3.6.7"
  }
 },
 "nbformat": 4,
 "nbformat_minor": 1
}
