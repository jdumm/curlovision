{
 "cells": [
  {
   "cell_type": "code",
   "execution_count": null,
   "metadata": {},
   "outputs": [],
   "source": [
    "%matplotlib inline\n",
    "import os\n",
    "import glob\n",
    "import pickle\n",
    "from context import curlovision as cvis\n",
    "import datetime"
   ]
  },
  {
   "cell_type": "code",
   "execution_count": null,
   "metadata": {},
   "outputs": [],
   "source": [
    "# Loop over all videos in a dir, process, and save MatchResults\n",
    "\n",
    "videos = glob.glob('../data/VideoLibrary/*.mp4')\n",
    "overwrite = False   # Set to True to reprocess and overwrite old MatchResults\n",
    "\n",
    "print(datetime.datetime.now())\n",
    "for filename in videos:\n",
    "    ofilename = '../data/MatchResults/'  + str(os.path.basename(filename))+'.pkl'\n",
    "    if overwrite==False and os.path.exists(ofilename):\n",
    "        print('MatchResult already exists.  Skipping video file: {}'.format(ofilename))\n",
    "        continue\n",
    "    \n",
    "    print('Processing video file: {}'.format(filename))\n",
    "    match_result = cvis.process_video(filename)\n",
    "    print(datetime.datetime.now())\n",
    "    \n",
    "    with open(ofilename, 'wb') as f:\n",
    "        pickle.dump(match_result,f)"
   ]
  },
  {
   "cell_type": "markdown",
   "metadata": {
    "collapsed": true
   },
   "source": [
    "# Logs showing typical processing times:\n",
    "2018-06-17 10:01:09.787490\n",
    "Processing video file: VideoLibrary/PyeongChang.Olympics.2018.curling.men's.round-robin.Sweden.v.Norway.1080p.NBC.WEB-DL-FINFUNGUS.mp4\n",
    "2018-06-17 10:46:18.857177\n",
    "Processing video file: VideoLibrary/PyeongChang.Olympics.2018.curling.men's.round-robin.USA.v.Canada.1080p.NBC.WEB-DL-FINFUNGUS.mp4\n",
    "2018-06-17 12:04:17.972625\n",
    "Processing video file: VideoLibrary/PyeongChang.Olympics.2018.curling.men's.round-robin.USA.v.Norway.1080p.NBC.WEB-DL-FINFUNGUS.mp4\n",
    "2018-06-17 12:59:20.778749\n",
    "Processing video file: VideoLibrary/PyeongChang.Olympics.2018.curling.mixed.doubles.bronze.1080p.NBC.WEB-DL-FINFUNGUS.mp4\n",
    "2018-06-17 13:39:01.481631\n",
    "Processing video file: VideoLibrary/PyeongChang.Olympics.2018.curling.mixed.doubles.round-robin.tiebreaker.1080p.NBC.WEB-DL-FINFUNGUS.mp4\n",
    "2018-06-17 14:15:43.767280\n",
    "Processing video file: VideoLibrary/PyeongChang.Olympics.2018.curling.mixed.doubles.semifinal.1.1080p.NBC.WEB-DL-FINFUNGUS.mp4\n",
    "2018-06-17 14:56:19.315766\n",
    "Processing video file: VideoLibrary/PyeongChang.Olympics.2018.curling.mixed.doubles.semifinal.2.1080p.NBC.WEB-DL-FINFUNGUS.mp4\n",
    "2018-06-17 15:38:34.774384\n",
    "Processing video file: VideoLibrary/PyeongChang.Olympics.2018.curling.women's.round-robin.China.v.USA.1080p.NBC.WEB-DL-FINFUNGUS.mp4\n",
    "2018-06-17 16:28:33.130201\n",
    "Processing video file: VideoLibrary/PyeongChang.Olympics.2018.curling.women's.round-robin.Denmark.v.Canada.1080p.NBC.WEB-DL-FINFUNGUS.mp4\n",
    "2018-06-17 17:48:25.340385\n",
    "Processing video file: VideoLibrary/PyeongChang.Olympics.2018.curling.women's.round-robin.Great.Britain.v.Sweden.1080p.NBC.WEB-DL-FINFUNGUS.mp4\n",
    "2018-06-17 19:01:43.644790\n",
    "Processing video file: VideoLibrary/PyeongChang.Olympics.2018.curling.women's.round-robin.Japan.v.Sweden.1080p.NBC.WEB-DL-FINFUNGUS.mp4\n",
    "2018-06-17 19:54:32.196055\n",
    "Processing video file: VideoLibrary/PyeongChang.Olympics.2018.curling.women's.round-robin.USA.v.Canada.1080p.NBC.WEB-DL-FINFUNGUS.mp4\n",
    "2018-06-17 20:36:02.738999\n",
    "Processing video file: VideoLibrary/PyeongChang.Olympics.2018.curling.women's.semi-finals.Korea.v.Japan.1080p.NBC.WEB-DL-FINFUNGUS.mp4\n",
    "2018-06-17 20:36:03.453751"
   ]
  },
  {
   "cell_type": "code",
   "execution_count": null,
   "metadata": {},
   "outputs": [],
   "source": [
    "ls ../data/MatchResults"
   ]
  },
  {
   "cell_type": "code",
   "execution_count": null,
   "metadata": {},
   "outputs": [],
   "source": []
  }
 ],
 "metadata": {
  "anaconda-cloud": {},
  "kernelspec": {
   "display_name": "Python 3",
   "language": "python",
   "name": "python3"
  },
  "language_info": {
   "codemirror_mode": {
    "name": "ipython",
    "version": 3
   },
   "file_extension": ".py",
   "mimetype": "text/x-python",
   "name": "python",
   "nbconvert_exporter": "python",
   "pygments_lexer": "ipython3",
   "version": "3.6.7"
  }
 },
 "nbformat": 4,
 "nbformat_minor": 1
}
